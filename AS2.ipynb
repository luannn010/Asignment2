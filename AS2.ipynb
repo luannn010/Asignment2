{
 "cells": [
  {
   "cell_type": "markdown",
   "id": "1cf0984e",
   "metadata": {},
   "source": [
    "# Asigment 2\n"
   ]
  },
  {
   "cell_type": "markdown",
   "id": "a7b56013",
   "metadata": {},
   "source": [
    "## Task 1\n",
    "### Data Prepatation and Analysis\n"
   ]
  },
  {
   "cell_type": "code",
   "execution_count": 1,
   "id": "431eb681",
   "metadata": {},
   "outputs": [
    {
     "name": "stdout",
     "output_type": "stream",
     "text": [
      "Intel MKL WARNING: Support of Intel(R) Streaming SIMD Extensions 4.2 (Intel(R) SSE4.2) enabled only processors has been deprecated. Intel oneAPI Math Kernel Library 2025.0 will require Intel(R) Advanced Vector Extensions (Intel(R) AVX) instructions.\n",
      "Intel MKL WARNING: Support of Intel(R) Streaming SIMD Extensions 4.2 (Intel(R) SSE4.2) enabled only processors has been deprecated. Intel oneAPI Math Kernel Library 2025.0 will require Intel(R) Advanced Vector Extensions (Intel(R) AVX) instructions.\n"
     ]
    }
   ],
   "source": [
    "import numpy as np\n",
    "import pandas as pd\n",
    "\n",
    "# Read the data set\n",
    "\n",
    "df = pd.read_csv('A2data.csv',delimiter=\";\")"
   ]
  },
  {
   "cell_type": "code",
   "execution_count": 2,
   "id": "a40f9324",
   "metadata": {},
   "outputs": [
    {
     "data": {
      "text/html": [
       "<div>\n",
       "<style scoped>\n",
       "    .dataframe tbody tr th:only-of-type {\n",
       "        vertical-align: middle;\n",
       "    }\n",
       "\n",
       "    .dataframe tbody tr th {\n",
       "        vertical-align: top;\n",
       "    }\n",
       "\n",
       "    .dataframe thead th {\n",
       "        text-align: right;\n",
       "    }\n",
       "</style>\n",
       "<table border=\"1\" class=\"dataframe\">\n",
       "  <thead>\n",
       "    <tr style=\"text-align: right;\">\n",
       "      <th></th>\n",
       "      <th>fixed acidity</th>\n",
       "      <th>volatile acidity</th>\n",
       "      <th>citric acid</th>\n",
       "      <th>residual sugar</th>\n",
       "      <th>chlorides</th>\n",
       "      <th>free sulfur dioxide</th>\n",
       "      <th>total sulfur dioxide</th>\n",
       "      <th>density</th>\n",
       "      <th>pH</th>\n",
       "      <th>sulphates</th>\n",
       "      <th>alcohol</th>\n",
       "      <th>quality</th>\n",
       "    </tr>\n",
       "  </thead>\n",
       "  <tbody>\n",
       "    <tr>\n",
       "      <th>0</th>\n",
       "      <td>7.0</td>\n",
       "      <td>0.27</td>\n",
       "      <td>0.36</td>\n",
       "      <td>20.7</td>\n",
       "      <td>0.045</td>\n",
       "      <td>45</td>\n",
       "      <td>170</td>\n",
       "      <td>1.001</td>\n",
       "      <td>3.00</td>\n",
       "      <td>0.45</td>\n",
       "      <td>8.8</td>\n",
       "      <td>6</td>\n",
       "    </tr>\n",
       "    <tr>\n",
       "      <th>1</th>\n",
       "      <td>6.3</td>\n",
       "      <td>0.30</td>\n",
       "      <td>0.34</td>\n",
       "      <td>1.6</td>\n",
       "      <td>0.049</td>\n",
       "      <td>14</td>\n",
       "      <td>132</td>\n",
       "      <td>0.994</td>\n",
       "      <td>3.30</td>\n",
       "      <td>0.49</td>\n",
       "      <td>9.5</td>\n",
       "      <td>6</td>\n",
       "    </tr>\n",
       "    <tr>\n",
       "      <th>2</th>\n",
       "      <td>8.1</td>\n",
       "      <td>0.28</td>\n",
       "      <td>0.40</td>\n",
       "      <td>6.9</td>\n",
       "      <td>0.050</td>\n",
       "      <td>30</td>\n",
       "      <td>97</td>\n",
       "      <td>0.9951</td>\n",
       "      <td>3.26</td>\n",
       "      <td>0.44</td>\n",
       "      <td>10.1</td>\n",
       "      <td>6</td>\n",
       "    </tr>\n",
       "    <tr>\n",
       "      <th>3</th>\n",
       "      <td>7.2</td>\n",
       "      <td>0.23</td>\n",
       "      <td>0.32</td>\n",
       "      <td>8.5</td>\n",
       "      <td>0.058</td>\n",
       "      <td>47</td>\n",
       "      <td>186</td>\n",
       "      <td>0.9956</td>\n",
       "      <td>3.19</td>\n",
       "      <td>0.40</td>\n",
       "      <td>9.9</td>\n",
       "      <td>6</td>\n",
       "    </tr>\n",
       "    <tr>\n",
       "      <th>4</th>\n",
       "      <td>7.2</td>\n",
       "      <td>0.23</td>\n",
       "      <td>0.32</td>\n",
       "      <td>8.5</td>\n",
       "      <td>0.058</td>\n",
       "      <td>47</td>\n",
       "      <td>186</td>\n",
       "      <td>0.9956</td>\n",
       "      <td>3.19</td>\n",
       "      <td>0.40</td>\n",
       "      <td>9.9</td>\n",
       "      <td>6</td>\n",
       "    </tr>\n",
       "  </tbody>\n",
       "</table>\n",
       "</div>"
      ],
      "text/plain": [
       "   fixed acidity  volatile acidity  citric acid residual sugar  chlorides  \\\n",
       "0            7.0              0.27         0.36           20.7      0.045   \n",
       "1            6.3              0.30         0.34            1.6      0.049   \n",
       "2            8.1              0.28         0.40            6.9      0.050   \n",
       "3            7.2              0.23         0.32            8.5      0.058   \n",
       "4            7.2              0.23         0.32            8.5      0.058   \n",
       "\n",
       "  free sulfur dioxide total sulfur dioxide density    pH  sulphates  alcohol  \\\n",
       "0                  45                  170   1.001  3.00       0.45      8.8   \n",
       "1                  14                  132   0.994  3.30       0.49      9.5   \n",
       "2                  30                   97  0.9951  3.26       0.44     10.1   \n",
       "3                  47                  186  0.9956  3.19       0.40      9.9   \n",
       "4                  47                  186  0.9956  3.19       0.40      9.9   \n",
       "\n",
       "   quality  \n",
       "0        6  \n",
       "1        6  \n",
       "2        6  \n",
       "3        6  \n",
       "4        6  "
      ]
     },
     "execution_count": 2,
     "metadata": {},
     "output_type": "execute_result"
    }
   ],
   "source": [
    "# Review dataset\n",
    "\n",
    "df.head()"
   ]
  },
  {
   "cell_type": "markdown",
   "id": "5b8ff9bd",
   "metadata": {},
   "source": [
    "### Clean Data"
   ]
  },
  {
   "cell_type": "code",
   "execution_count": 3,
   "id": "bf8bb91c",
   "metadata": {},
   "outputs": [
    {
     "data": {
      "text/plain": [
       "fixed acidity           float64\n",
       "volatile acidity        float64\n",
       "citric acid             float64\n",
       "residual sugar           object\n",
       "chlorides               float64\n",
       "free sulfur dioxide      object\n",
       "total sulfur dioxide     object\n",
       "density                  object\n",
       "pH                      float64\n",
       "sulphates               float64\n",
       "alcohol                 float64\n",
       "quality                   int64\n",
       "dtype: object"
      ]
     },
     "execution_count": 3,
     "metadata": {},
     "output_type": "execute_result"
    }
   ],
   "source": [
    "#Check dataset DataType\n",
    "df.dtypes"
   ]
  },
  {
   "cell_type": "code",
   "execution_count": 4,
   "id": "b38d903e",
   "metadata": {},
   "outputs": [
    {
     "name": "stdout",
     "output_type": "stream",
     "text": [
      "fixed acidity           float64\n",
      "volatile acidity        float64\n",
      "citric acid             float64\n",
      "residual sugar          float64\n",
      "chlorides               float64\n",
      "free sulfur dioxide     float64\n",
      "total sulfur dioxide    float64\n",
      "density                 float64\n",
      "pH                      float64\n",
      "sulphates               float64\n",
      "alcohol                 float64\n",
      "quality                   int64\n",
      "dtype: object\n"
     ]
    }
   ],
   "source": [
    "# Convert non-numerical column to NaN\n",
    "\n",
    "columns_to_convert = ['residual sugar', 'free sulfur dioxide', 'total sulfur dioxide', 'density']\n",
    "\n",
    "for col in columns_to_convert:\n",
    "    df[col] = pd.to_numeric(df[col], errors='coerce')\n",
    "\n",
    "# Verify the data types after conversion\n",
    "print(df.dtypes)\n"
   ]
  },
  {
   "cell_type": "markdown",
   "id": "e06e01fa",
   "metadata": {},
   "source": [
    "## Task 1.1\n",
    "### Take random 600 null free instances from data set\n"
   ]
  },
  {
   "cell_type": "code",
   "execution_count": 5,
   "id": "ec480998",
   "metadata": {},
   "outputs": [
    {
     "name": "stdout",
     "output_type": "stream",
     "text": [
      "      fixed acidity  volatile acidity  citric acid  residual sugar  chlorides  \\\n",
      "1593            7.5              0.19         0.49             1.6      0.047   \n",
      "3192            6.6              0.16         0.34             1.1      0.037   \n",
      "545             6.7              0.21         0.42             9.1      0.049   \n",
      "2663            7.0              0.16         0.36             2.6      0.029   \n",
      "4453            6.4              0.24         0.27             1.5      0.040   \n",
      "...             ...               ...          ...             ...        ...   \n",
      "1405            7.4              0.25         0.49             1.1      0.042   \n",
      "4242            5.7              0.22         0.20            16.0      0.044   \n",
      "4129            7.4              0.16         0.30            13.7      0.056   \n",
      "2136            7.4              0.18         0.27             1.3      0.048   \n",
      "1842            7.1              0.25         0.30             2.4      0.042   \n",
      "\n",
      "      free sulfur dioxide  total sulfur dioxide  density    pH  sulphates  \\\n",
      "1593                 42.0                 140.0  0.99320  3.40       0.47   \n",
      "3192                 41.0                 115.0  0.98990  3.01       0.68   \n",
      "545                  31.0                 150.0  0.99530  3.12       0.74   \n",
      "2663                 28.0                  98.0  0.99126  3.11       0.37   \n",
      "4453                 35.0                 105.0  0.98914  3.13       0.30   \n",
      "...                   ...                   ...      ...   ...        ...   \n",
      "1405                 35.0                 156.0  0.99170  3.13       0.55   \n",
      "4242                 41.0                 113.0  0.99862  3.22       0.46   \n",
      "4129                 33.0                 168.0  0.99825  2.90       0.44   \n",
      "2136                 26.0                 105.0  0.99400  3.52       0.66   \n",
      "1842                 25.0                 122.0  0.99400  3.43       0.61   \n",
      "\n",
      "      alcohol  quality  \n",
      "1593     10.7        6  \n",
      "3192     12.0        6  \n",
      "545       9.9        7  \n",
      "2663     11.2        7  \n",
      "4453     12.4        6  \n",
      "...       ...      ...  \n",
      "1405     11.3        5  \n",
      "4242      8.9        6  \n",
      "4129      8.7        7  \n",
      "2136     10.6        6  \n",
      "1842     10.5        6  \n",
      "\n",
      "[600 rows x 12 columns]\n"
     ]
    }
   ],
   "source": [
    "# Check for missing value\n",
    "\n",
    "missing_values = df.isnull().any(axis=1)\n",
    "\n",
    "\n",
    "# Remove missing instances with missing values\n",
    "\n",
    "df = df[~missing_values]\n",
    "\n",
    "# Check if there are enough 600 instances\n",
    "if len(df) >= 600:\n",
    "    df = df.sample(n=600, random_state=42)\n",
    "    print(df)\n",
    "else:\n",
    "    print(\"There are not enough 600 instances\")\n",
    "    \n"
   ]
  },
  {
   "cell_type": "code",
   "execution_count": 6,
   "id": "6d982e94",
   "metadata": {},
   "outputs": [
    {
     "data": {
      "text/html": [
       "<div>\n",
       "<style scoped>\n",
       "    .dataframe tbody tr th:only-of-type {\n",
       "        vertical-align: middle;\n",
       "    }\n",
       "\n",
       "    .dataframe tbody tr th {\n",
       "        vertical-align: top;\n",
       "    }\n",
       "\n",
       "    .dataframe thead th {\n",
       "        text-align: right;\n",
       "    }\n",
       "</style>\n",
       "<table border=\"1\" class=\"dataframe\">\n",
       "  <thead>\n",
       "    <tr style=\"text-align: right;\">\n",
       "      <th></th>\n",
       "      <th>fixed acidity</th>\n",
       "      <th>volatile acidity</th>\n",
       "      <th>citric acid</th>\n",
       "      <th>residual sugar</th>\n",
       "      <th>chlorides</th>\n",
       "      <th>free sulfur dioxide</th>\n",
       "      <th>total sulfur dioxide</th>\n",
       "      <th>density</th>\n",
       "      <th>pH</th>\n",
       "      <th>sulphates</th>\n",
       "      <th>alcohol</th>\n",
       "      <th>quality</th>\n",
       "    </tr>\n",
       "  </thead>\n",
       "  <tbody>\n",
       "    <tr>\n",
       "      <th>1593</th>\n",
       "      <td>7.5</td>\n",
       "      <td>0.19</td>\n",
       "      <td>0.49</td>\n",
       "      <td>1.6</td>\n",
       "      <td>0.047</td>\n",
       "      <td>42.0</td>\n",
       "      <td>140.0</td>\n",
       "      <td>0.99320</td>\n",
       "      <td>3.40</td>\n",
       "      <td>0.47</td>\n",
       "      <td>10.7</td>\n",
       "      <td>6</td>\n",
       "    </tr>\n",
       "    <tr>\n",
       "      <th>3192</th>\n",
       "      <td>6.6</td>\n",
       "      <td>0.16</td>\n",
       "      <td>0.34</td>\n",
       "      <td>1.1</td>\n",
       "      <td>0.037</td>\n",
       "      <td>41.0</td>\n",
       "      <td>115.0</td>\n",
       "      <td>0.98990</td>\n",
       "      <td>3.01</td>\n",
       "      <td>0.68</td>\n",
       "      <td>12.0</td>\n",
       "      <td>6</td>\n",
       "    </tr>\n",
       "    <tr>\n",
       "      <th>545</th>\n",
       "      <td>6.7</td>\n",
       "      <td>0.21</td>\n",
       "      <td>0.42</td>\n",
       "      <td>9.1</td>\n",
       "      <td>0.049</td>\n",
       "      <td>31.0</td>\n",
       "      <td>150.0</td>\n",
       "      <td>0.99530</td>\n",
       "      <td>3.12</td>\n",
       "      <td>0.74</td>\n",
       "      <td>9.9</td>\n",
       "      <td>7</td>\n",
       "    </tr>\n",
       "    <tr>\n",
       "      <th>2663</th>\n",
       "      <td>7.0</td>\n",
       "      <td>0.16</td>\n",
       "      <td>0.36</td>\n",
       "      <td>2.6</td>\n",
       "      <td>0.029</td>\n",
       "      <td>28.0</td>\n",
       "      <td>98.0</td>\n",
       "      <td>0.99126</td>\n",
       "      <td>3.11</td>\n",
       "      <td>0.37</td>\n",
       "      <td>11.2</td>\n",
       "      <td>7</td>\n",
       "    </tr>\n",
       "    <tr>\n",
       "      <th>4453</th>\n",
       "      <td>6.4</td>\n",
       "      <td>0.24</td>\n",
       "      <td>0.27</td>\n",
       "      <td>1.5</td>\n",
       "      <td>0.040</td>\n",
       "      <td>35.0</td>\n",
       "      <td>105.0</td>\n",
       "      <td>0.98914</td>\n",
       "      <td>3.13</td>\n",
       "      <td>0.30</td>\n",
       "      <td>12.4</td>\n",
       "      <td>6</td>\n",
       "    </tr>\n",
       "    <tr>\n",
       "      <th>...</th>\n",
       "      <td>...</td>\n",
       "      <td>...</td>\n",
       "      <td>...</td>\n",
       "      <td>...</td>\n",
       "      <td>...</td>\n",
       "      <td>...</td>\n",
       "      <td>...</td>\n",
       "      <td>...</td>\n",
       "      <td>...</td>\n",
       "      <td>...</td>\n",
       "      <td>...</td>\n",
       "      <td>...</td>\n",
       "    </tr>\n",
       "    <tr>\n",
       "      <th>1405</th>\n",
       "      <td>7.4</td>\n",
       "      <td>0.25</td>\n",
       "      <td>0.49</td>\n",
       "      <td>1.1</td>\n",
       "      <td>0.042</td>\n",
       "      <td>35.0</td>\n",
       "      <td>156.0</td>\n",
       "      <td>0.99170</td>\n",
       "      <td>3.13</td>\n",
       "      <td>0.55</td>\n",
       "      <td>11.3</td>\n",
       "      <td>5</td>\n",
       "    </tr>\n",
       "    <tr>\n",
       "      <th>4242</th>\n",
       "      <td>5.7</td>\n",
       "      <td>0.22</td>\n",
       "      <td>0.20</td>\n",
       "      <td>16.0</td>\n",
       "      <td>0.044</td>\n",
       "      <td>41.0</td>\n",
       "      <td>113.0</td>\n",
       "      <td>0.99862</td>\n",
       "      <td>3.22</td>\n",
       "      <td>0.46</td>\n",
       "      <td>8.9</td>\n",
       "      <td>6</td>\n",
       "    </tr>\n",
       "    <tr>\n",
       "      <th>4129</th>\n",
       "      <td>7.4</td>\n",
       "      <td>0.16</td>\n",
       "      <td>0.30</td>\n",
       "      <td>13.7</td>\n",
       "      <td>0.056</td>\n",
       "      <td>33.0</td>\n",
       "      <td>168.0</td>\n",
       "      <td>0.99825</td>\n",
       "      <td>2.90</td>\n",
       "      <td>0.44</td>\n",
       "      <td>8.7</td>\n",
       "      <td>7</td>\n",
       "    </tr>\n",
       "    <tr>\n",
       "      <th>2136</th>\n",
       "      <td>7.4</td>\n",
       "      <td>0.18</td>\n",
       "      <td>0.27</td>\n",
       "      <td>1.3</td>\n",
       "      <td>0.048</td>\n",
       "      <td>26.0</td>\n",
       "      <td>105.0</td>\n",
       "      <td>0.99400</td>\n",
       "      <td>3.52</td>\n",
       "      <td>0.66</td>\n",
       "      <td>10.6</td>\n",
       "      <td>6</td>\n",
       "    </tr>\n",
       "    <tr>\n",
       "      <th>1842</th>\n",
       "      <td>7.1</td>\n",
       "      <td>0.25</td>\n",
       "      <td>0.30</td>\n",
       "      <td>2.4</td>\n",
       "      <td>0.042</td>\n",
       "      <td>25.0</td>\n",
       "      <td>122.0</td>\n",
       "      <td>0.99400</td>\n",
       "      <td>3.43</td>\n",
       "      <td>0.61</td>\n",
       "      <td>10.5</td>\n",
       "      <td>6</td>\n",
       "    </tr>\n",
       "  </tbody>\n",
       "</table>\n",
       "<p>600 rows × 12 columns</p>\n",
       "</div>"
      ],
      "text/plain": [
       "      fixed acidity  volatile acidity  citric acid  residual sugar  chlorides  \\\n",
       "1593            7.5              0.19         0.49             1.6      0.047   \n",
       "3192            6.6              0.16         0.34             1.1      0.037   \n",
       "545             6.7              0.21         0.42             9.1      0.049   \n",
       "2663            7.0              0.16         0.36             2.6      0.029   \n",
       "4453            6.4              0.24         0.27             1.5      0.040   \n",
       "...             ...               ...          ...             ...        ...   \n",
       "1405            7.4              0.25         0.49             1.1      0.042   \n",
       "4242            5.7              0.22         0.20            16.0      0.044   \n",
       "4129            7.4              0.16         0.30            13.7      0.056   \n",
       "2136            7.4              0.18         0.27             1.3      0.048   \n",
       "1842            7.1              0.25         0.30             2.4      0.042   \n",
       "\n",
       "      free sulfur dioxide  total sulfur dioxide  density    pH  sulphates  \\\n",
       "1593                 42.0                 140.0  0.99320  3.40       0.47   \n",
       "3192                 41.0                 115.0  0.98990  3.01       0.68   \n",
       "545                  31.0                 150.0  0.99530  3.12       0.74   \n",
       "2663                 28.0                  98.0  0.99126  3.11       0.37   \n",
       "4453                 35.0                 105.0  0.98914  3.13       0.30   \n",
       "...                   ...                   ...      ...   ...        ...   \n",
       "1405                 35.0                 156.0  0.99170  3.13       0.55   \n",
       "4242                 41.0                 113.0  0.99862  3.22       0.46   \n",
       "4129                 33.0                 168.0  0.99825  2.90       0.44   \n",
       "2136                 26.0                 105.0  0.99400  3.52       0.66   \n",
       "1842                 25.0                 122.0  0.99400  3.43       0.61   \n",
       "\n",
       "      alcohol  quality  \n",
       "1593     10.7        6  \n",
       "3192     12.0        6  \n",
       "545       9.9        7  \n",
       "2663     11.2        7  \n",
       "4453     12.4        6  \n",
       "...       ...      ...  \n",
       "1405     11.3        5  \n",
       "4242      8.9        6  \n",
       "4129      8.7        7  \n",
       "2136     10.6        6  \n",
       "1842     10.5        6  \n",
       "\n",
       "[600 rows x 12 columns]"
      ]
     },
     "execution_count": 6,
     "metadata": {},
     "output_type": "execute_result"
    }
   ],
   "source": [
    "df\n"
   ]
  },
  {
   "cell_type": "code",
   "execution_count": 7,
   "id": "73ee3623",
   "metadata": {},
   "outputs": [
    {
     "name": "stdout",
     "output_type": "stream",
     "text": [
      "float64\n"
     ]
    }
   ],
   "source": [
    "print(df['density'].dtype)"
   ]
  },
  {
   "cell_type": "markdown",
   "id": "1f34efc4",
   "metadata": {},
   "source": [
    "### Verify the Dataset\n"
   ]
  },
  {
   "cell_type": "code",
   "execution_count": 8,
   "id": "a44fc047",
   "metadata": {},
   "outputs": [
    {
     "name": "stdout",
     "output_type": "stream",
     "text": [
      "There are no rows with missing values.\n"
     ]
    }
   ],
   "source": [
    "# Check for missing values in each row\n",
    "missing_rows = df.isnull().any(axis=1)\n",
    "\n",
    "# Check if there are any rows with missing values\n",
    "if missing_rows.any():\n",
    "    print(\"There are rows with missing values.\")\n",
    "else:\n",
    "    print(\"There are no rows with missing values.\")"
   ]
  },
  {
   "cell_type": "markdown",
   "id": "f9dbc4c8",
   "metadata": {},
   "source": [
    "## Task 1.2\n",
    "### Explore the relationship between two variables: alcohol and density."
   ]
  },
  {
   "cell_type": "code",
   "execution_count": 9,
   "id": "6c797db3",
   "metadata": {},
   "outputs": [],
   "source": [
    "density_min = round(df['density'].min(), 2)\n",
    "density_max = round(df['density'].max(), 2)\n"
   ]
  },
  {
   "cell_type": "code",
   "execution_count": 10,
   "id": "3cd00164",
   "metadata": {},
   "outputs": [
    {
     "data": {
      "image/png": "[encoded data removed]",
      "text/plain": [
       "<Figure size 650x650 with 1 Axes>"
      ]
     },
     "metadata": {},
     "output_type": "display_data"
    }
   ],
   "source": [
    "import pandas as pd\n",
    "import seaborn as sns\n",
    "import matplotlib.pyplot as plt\n",
    "from matplotlib.ticker import FuncFormatter\n",
    "\n",
    "# Set the theme for the plot\n",
    "\n",
    "sns.set_theme(style=\"whitegrid\")\n",
    "\n",
    "# Create a scatter plot\n",
    "plt.figure(figsize=(6.5, 6.5))\n",
    "ax = sns.scatterplot(x=\"density\", y=\"alcohol\", data=df)\n",
    "\n",
    "plt.title('Scatter Plot of Alcohol vs. Density')\n",
    "plt.xlabel('Density')\n",
    "plt.ylabel('Alcohol')\n",
    "\n",
    "# Define a custom tick formatting function for the x-axis (density axis)\n",
    "def format_density_ticks(x, pos):\n",
    "    return '{:.3f}'.format(x)  # Format the tick label to three decimal places\n",
    "\n",
    "# Apply the custom tick formatter to the x-axis (density axis)\n",
    "ax.xaxis.set_major_formatter(FuncFormatter(format_density_ticks))\n",
    "\n",
    "# Set the x-axis ticks explicitly\n",
    "density_ticks = np.arange(density_min, density_max, step=0.01)\n",
    "ax.set_xticks(density_ticks)\n",
    "\n",
    "# Show the plot\n",
    "plt.show()"
   ]
  },
  {
   "cell_type": "markdown",
   "id": "31e9f1c5",
   "metadata": {},
   "source": [
    "### Build Linear Model"
   ]
  },
  {
   "cell_type": "code",
   "execution_count": 11,
   "id": "1b44cd36",
   "metadata": {},
   "outputs": [
    {
     "data": {
      "text/html": [
       "<style>#sk-container-id-1 {color: black;background-color: white;}#sk-container-id-1 pre{padding: 0;}#sk-container-id-1 div.sk-toggleable {background-color: white;}#sk-container-id-1 label.sk-toggleable__label {cursor: pointer;display: block;width: 100%;margin-bottom: 0;padding: 0.3em;box-sizing: border-box;text-align: center;}#sk-container-id-1 label.sk-toggleable__label-arrow:before {content: \"▸\";float: left;margin-right: 0.25em;color: #696969;}#sk-container-id-1 label.sk-toggleable__label-arrow:hover:before {color: black;}#sk-container-id-1 div.sk-estimator:hover label.sk-toggleable__label-arrow:before {color: black;}#sk-container-id-1 div.sk-toggleable__content {max-height: 0;max-width: 0;overflow: hidden;text-align: left;background-color: #f0f8ff;}#sk-container-id-1 div.sk-toggleable__content pre {margin: 0.2em;color: black;border-radius: 0.25em;background-color: #f0f8ff;}#sk-container-id-1 input.sk-toggleable__control:checked~div.sk-toggleable__content {max-height: 200px;max-width: 100%;overflow: auto;}#sk-container-id-1 input.sk-toggleable__control:checked~label.sk-toggleable__label-arrow:before {content: \"▾\";}#sk-container-id-1 div.sk-estimator input.sk-toggleable__control:checked~label.sk-toggleable__label {background-color: #d4ebff;}#sk-container-id-1 div.sk-label input.sk-toggleable__control:checked~label.sk-toggleable__label {background-color: #d4ebff;}#sk-container-id-1 input.sk-hidden--visually {border: 0;clip: rect(1px 1px 1px 1px);clip: rect(1px, 1px, 1px, 1px);height: 1px;margin: -1px;overflow: hidden;padding: 0;position: absolute;width: 1px;}#sk-container-id-1 div.sk-estimator {font-family: monospace;background-color: #f0f8ff;border: 1px dotted black;border-radius: 0.25em;box-sizing: border-box;margin-bottom: 0.5em;}#sk-container-id-1 div.sk-estimator:hover {background-color: #d4ebff;}#sk-container-id-1 div.sk-parallel-item::after {content: \"\";width: 100%;border-bottom: 1px solid gray;flex-grow: 1;}#sk-container-id-1 div.sk-label:hover label.sk-toggleable__label {background-color: #d4ebff;}#sk-container-id-1 div.sk-serial::before {content: \"\";position: absolute;border-left: 1px solid gray;box-sizing: border-box;top: 0;bottom: 0;left: 50%;z-index: 0;}#sk-container-id-1 div.sk-serial {display: flex;flex-direction: column;align-items: center;background-color: white;padding-right: 0.2em;padding-left: 0.2em;position: relative;}#sk-container-id-1 div.sk-item {position: relative;z-index: 1;}#sk-container-id-1 div.sk-parallel {display: flex;align-items: stretch;justify-content: center;background-color: white;position: relative;}#sk-container-id-1 div.sk-item::before, #sk-container-id-1 div.sk-parallel-item::before {content: \"\";position: absolute;border-left: 1px solid gray;box-sizing: border-box;top: 0;bottom: 0;left: 50%;z-index: -1;}#sk-container-id-1 div.sk-parallel-item {display: flex;flex-direction: column;z-index: 1;position: relative;background-color: white;}#sk-container-id-1 div.sk-parallel-item:first-child::after {align-self: flex-end;width: 50%;}#sk-container-id-1 div.sk-parallel-item:last-child::after {align-self: flex-start;width: 50%;}#sk-container-id-1 div.sk-parallel-item:only-child::after {width: 0;}#sk-container-id-1 div.sk-dashed-wrapped {border: 1px dashed gray;margin: 0 0.4em 0.5em 0.4em;box-sizing: border-box;padding-bottom: 0.4em;background-color: white;}#sk-container-id-1 div.sk-label label {font-family: monospace;font-weight: bold;display: inline-block;line-height: 1.2em;}#sk-container-id-1 div.sk-label-container {text-align: center;}#sk-container-id-1 div.sk-container {/* jupyter's `normalize.less` sets `[hidden] { display: none; }` but bootstrap.min.css set `[hidden] { display: none !important; }` so we also need the `!important` here to be able to override the default hidden behavior on the sphinx rendered scikit-learn.org. See: https://github.com/scikit-learn/scikit-learn/issues/21755 */display: inline-block !important;position: relative;}#sk-container-id-1 div.sk-text-repr-fallback {display: none;}</style><div id=\"sk-container-id-1\" class=\"sk-top-container\"><div class=\"sk-text-repr-fallback\"><pre>LinearRegression()</pre><b>In a Jupyter environment, please rerun this cell to show the HTML representation or trust the notebook. <br />On GitHub, the HTML representation is unable to render, please try loading this page with nbviewer.org.</b></div><div class=\"sk-container\" hidden><div class=\"sk-item\"><div class=\"sk-estimator sk-toggleable\"><input class=\"sk-toggleable__control sk-hidden--visually\" id=\"sk-estimator-id-1\" type=\"checkbox\" checked><label for=\"sk-estimator-id-1\" class=\"sk-toggleable__label sk-toggleable__label-arrow\">LinearRegression</label><div class=\"sk-toggleable__content\"><pre>LinearRegression()</pre></div></div></div></div></div>"
      ],
      "text/plain": [
       "LinearRegression()"
      ]
     },
     "execution_count": 11,
     "metadata": {},
     "output_type": "execute_result"
    }
   ],
   "source": [
    "from sklearn.linear_model import LinearRegression\n",
    "import numpy as np\n",
    "\n",
    "model = LinearRegression()\n",
    "\n",
    "X = df['density'].values  # Convert the Series to a numpy array\n",
    "y = df['alcohol']\n",
    "\n",
    "# Reshape X to 2D array\n",
    "X = X.reshape(-1, 1)\n",
    "\n",
    "# Fit the model to the data\n",
    "model.fit(X, y)\n"
   ]
  },
  {
   "cell_type": "code",
   "execution_count": 12,
   "id": "359f85a4",
   "metadata": {},
   "outputs": [],
   "source": [
    "# Predict y values based on the model\n",
    "y_pred = model.predict(X)\n"
   ]
  },
  {
   "cell_type": "code",
   "execution_count": 13,
   "id": "98a05bd0",
   "metadata": {},
   "outputs": [
    {
     "data": {
      "image/png": "[encoded data removed]",
      "text/plain": [
       "<Figure size 700x700 with 1 Axes>"
      ]
     },
     "metadata": {},
     "output_type": "display_data"
    }
   ],
   "source": [
    "import pandas as pd\n",
    "import seaborn as sns\n",
    "import matplotlib.pyplot as plt\n",
    "from matplotlib.ticker import FuncFormatter\n",
    "\n",
    "# Set the theme for the plot\n",
    "\n",
    "sns.set_theme(style=\"whitegrid\")\n",
    "\n",
    "# Create a scatter plot\n",
    "plt.figure(figsize=(7, 7))\n",
    "ax = sns.scatterplot(x=\"density\", y=\"alcohol\", data=df)\n",
    "\n",
    "plt.title('Scatter Plot of Alcohol vs. Density')\n",
    "plt.xlabel('Density')\n",
    "plt.ylabel('Alcohol')\n",
    "\n",
    "# Define a custom tick formatting function for the x-axis (density axis)\n",
    "def format_density_ticks(x, pos):\n",
    "    return '{:.3f}'.format(x)  # Format the tick label to three decimal places\n",
    "\n",
    "# Apply the custom tick formatter to the x-axis (density axis)\n",
    "ax.xaxis.set_major_formatter(FuncFormatter(format_density_ticks))\n",
    "\n",
    "\n",
    "# Set the x-axis ticks explicitly\n",
    "density_ticks = np.arange(density_min, density_max, step=0.01)\n",
    "ax.set_xticks(density_ticks)\n",
    "\n",
    "\n",
    "# Plot the regression line\n",
    "plt.plot(X, y_pred, color='red', label='Regression line')\n",
    "\n",
    "# Show the plot\n",
    "plt.show()"
   ]
  },
  {
   "cell_type": "code",
   "execution_count": null,
   "id": "52e51ffc",
   "metadata": {},
   "outputs": [],
   "source": []
  }
 ],
 "metadata": {
  "kernelspec": {
   "display_name": "Python 3 (ipykernel)",
   "language": "python",
   "name": "python3"
  },
  "language_info": {
   "codemirror_mode": {
    "name": "ipython",
    "version": 3
   },
   "file_extension": ".py",
   "mimetype": "text/x-python",
   "name": "python",
   "nbconvert_exporter": "python",
   "pygments_lexer": "ipython3",
   "version": "3.9.13"
  }
 },
 "nbformat": 4,
 "nbformat_minor": 5
}
